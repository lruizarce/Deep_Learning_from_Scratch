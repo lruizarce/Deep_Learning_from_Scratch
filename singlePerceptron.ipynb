{
 "cells": [
  {
   "cell_type": "markdown",
   "metadata": {},
   "source": [
    "## Single Layer Perceptron"
   ]
  },
  {
   "cell_type": "code",
   "execution_count": 3,
   "metadata": {},
   "outputs": [],
   "source": [
    "import numpy as np"
   ]
  },
  {
   "cell_type": "code",
   "execution_count": 14,
   "metadata": {},
   "outputs": [],
   "source": [
    "inputs = np.array([[0,0], [0,1], [1,0], [1,1]])\n",
    "outputs = np.array([0,0,0,1])\n",
    "weights = np.array([0.0, 0.0])\n",
    "lr = 0.01"
   ]
  },
  {
   "cell_type": "markdown",
   "metadata": {},
   "source": [
    "### Step Function\n",
    "Maps an input to a binary of either 0 or 1. Commonly used in a NN as an activation function, which determines the output of a neuron based on its input."
   ]
  },
  {
   "cell_type": "code",
   "execution_count": 15,
   "metadata": {},
   "outputs": [],
   "source": [
    "def step_(summation):\n",
    "    if summation >=1:\n",
    "        return 1\n",
    "    return 0"
   ]
  },
  {
   "cell_type": "markdown",
   "metadata": {},
   "source": [
    "### Calculate "
   ]
  },
  {
   "cell_type": "code",
   "execution_count": 16,
   "metadata": {},
   "outputs": [],
   "source": [
    "def calc(instance):\n",
    "    s = instance.dot(weights)\n",
    "    return step_(s)"
   ]
  },
  {
   "cell_type": "code",
   "execution_count": 17,
   "metadata": {},
   "outputs": [
    {
     "data": {
      "text/plain": [
       "0"
      ]
     },
     "execution_count": 17,
     "metadata": {},
     "output_type": "execute_result"
    }
   ],
   "source": [
    "calc(np.array([1,1]))"
   ]
  },
  {
   "cell_type": "markdown",
   "metadata": {},
   "source": [
    "### Update Weights"
   ]
  },
  {
   "cell_type": "code",
   "execution_count": 21,
   "metadata": {},
   "outputs": [],
   "source": [
    "from typing import List\n",
    "def train():\n",
    "    total_error = 1\n",
    "    while(total_error != 0):\n",
    "        total_error = 0\n",
    "        for i in range(len(outputs)):\n",
    "            # is either the 0 or 1\n",
    "            pred = calc(inputs[i])\n",
    "            # actual - pred\n",
    "            error = abs(outputs[i] - pred)\n",
    "            # sum up error\n",
    "            total_error += error\n",
    "        # checks for error rate\n",
    "        if error > 0:\n",
    "            # iterates through weights\n",
    "            for j in range(len(weights)):\n",
    "                # calculates new weight value\n",
    "                weights[j] = weights[j] + (lr * inputs[i][j]* error)\n",
    "                print(f'Weight updated:{str(weights[j])}')\n",
    "            print(f'Total error:{str(total_error)}')\n",
    "        "
   ]
  },
  {
   "cell_type": "code",
   "execution_count": 22,
   "metadata": {},
   "outputs": [
    {
     "name": "stdout",
     "output_type": "stream",
     "text": [
      "Weight updated:0.01\n",
      "Weight updated:0.01\n",
      "Total error:1\n",
      "Weight updated:0.02\n",
      "Weight updated:0.02\n",
      "Total error:1\n",
      "Weight updated:0.03\n",
      "Weight updated:0.03\n",
      "Total error:1\n",
      "Weight updated:0.04\n",
      "Weight updated:0.04\n",
      "Total error:1\n",
      "Weight updated:0.05\n",
      "Weight updated:0.05\n",
      "Total error:1\n",
      "Weight updated:0.060000000000000005\n",
      "Weight updated:0.060000000000000005\n",
      "Total error:1\n",
      "Weight updated:0.07\n",
      "Weight updated:0.07\n",
      "Total error:1\n",
      "Weight updated:0.08\n",
      "Weight updated:0.08\n",
      "Total error:1\n",
      "Weight updated:0.09\n",
      "Weight updated:0.09\n",
      "Total error:1\n",
      "Weight updated:0.09999999999999999\n",
      "Weight updated:0.09999999999999999\n",
      "Total error:1\n",
      "Weight updated:0.10999999999999999\n",
      "Weight updated:0.10999999999999999\n",
      "Total error:1\n",
      "Weight updated:0.11999999999999998\n",
      "Weight updated:0.11999999999999998\n",
      "Total error:1\n",
      "Weight updated:0.12999999999999998\n",
      "Weight updated:0.12999999999999998\n",
      "Total error:1\n",
      "Weight updated:0.13999999999999999\n",
      "Weight updated:0.13999999999999999\n",
      "Total error:1\n",
      "Weight updated:0.15\n",
      "Weight updated:0.15\n",
      "Total error:1\n",
      "Weight updated:0.16\n",
      "Weight updated:0.16\n",
      "Total error:1\n",
      "Weight updated:0.17\n",
      "Weight updated:0.17\n",
      "Total error:1\n",
      "Weight updated:0.18000000000000002\n",
      "Weight updated:0.18000000000000002\n",
      "Total error:1\n",
      "Weight updated:0.19000000000000003\n",
      "Weight updated:0.19000000000000003\n",
      "Total error:1\n",
      "Weight updated:0.20000000000000004\n",
      "Weight updated:0.20000000000000004\n",
      "Total error:1\n",
      "Weight updated:0.21000000000000005\n",
      "Weight updated:0.21000000000000005\n",
      "Total error:1\n",
      "Weight updated:0.22000000000000006\n",
      "Weight updated:0.22000000000000006\n",
      "Total error:1\n",
      "Weight updated:0.23000000000000007\n",
      "Weight updated:0.23000000000000007\n",
      "Total error:1\n",
      "Weight updated:0.24000000000000007\n",
      "Weight updated:0.24000000000000007\n",
      "Total error:1\n",
      "Weight updated:0.25000000000000006\n",
      "Weight updated:0.25000000000000006\n",
      "Total error:1\n",
      "Weight updated:0.26000000000000006\n",
      "Weight updated:0.26000000000000006\n",
      "Total error:1\n",
      "Weight updated:0.2700000000000001\n",
      "Weight updated:0.2700000000000001\n",
      "Total error:1\n",
      "Weight updated:0.2800000000000001\n",
      "Weight updated:0.2800000000000001\n",
      "Total error:1\n",
      "Weight updated:0.2900000000000001\n",
      "Weight updated:0.2900000000000001\n",
      "Total error:1\n",
      "Weight updated:0.3000000000000001\n",
      "Weight updated:0.3000000000000001\n",
      "Total error:1\n",
      "Weight updated:0.3100000000000001\n",
      "Weight updated:0.3100000000000001\n",
      "Total error:1\n",
      "Weight updated:0.3200000000000001\n",
      "Weight updated:0.3200000000000001\n",
      "Total error:1\n",
      "Weight updated:0.3300000000000001\n",
      "Weight updated:0.3300000000000001\n",
      "Total error:1\n",
      "Weight updated:0.34000000000000014\n",
      "Weight updated:0.34000000000000014\n",
      "Total error:1\n",
      "Weight updated:0.35000000000000014\n",
      "Weight updated:0.35000000000000014\n",
      "Total error:1\n",
      "Weight updated:0.36000000000000015\n",
      "Weight updated:0.36000000000000015\n",
      "Total error:1\n",
      "Weight updated:0.37000000000000016\n",
      "Weight updated:0.37000000000000016\n",
      "Total error:1\n",
      "Weight updated:0.38000000000000017\n",
      "Weight updated:0.38000000000000017\n",
      "Total error:1\n",
      "Weight updated:0.3900000000000002\n",
      "Weight updated:0.3900000000000002\n",
      "Total error:1\n",
      "Weight updated:0.4000000000000002\n",
      "Weight updated:0.4000000000000002\n",
      "Total error:1\n",
      "Weight updated:0.4100000000000002\n",
      "Weight updated:0.4100000000000002\n",
      "Total error:1\n",
      "Weight updated:0.4200000000000002\n",
      "Weight updated:0.4200000000000002\n",
      "Total error:1\n",
      "Weight updated:0.4300000000000002\n",
      "Weight updated:0.4300000000000002\n",
      "Total error:1\n",
      "Weight updated:0.4400000000000002\n",
      "Weight updated:0.4400000000000002\n",
      "Total error:1\n",
      "Weight updated:0.45000000000000023\n",
      "Weight updated:0.45000000000000023\n",
      "Total error:1\n",
      "Weight updated:0.46000000000000024\n",
      "Weight updated:0.46000000000000024\n",
      "Total error:1\n",
      "Weight updated:0.47000000000000025\n",
      "Weight updated:0.47000000000000025\n",
      "Total error:1\n",
      "Weight updated:0.48000000000000026\n",
      "Weight updated:0.48000000000000026\n",
      "Total error:1\n",
      "Weight updated:0.49000000000000027\n",
      "Weight updated:0.49000000000000027\n",
      "Total error:1\n",
      "Weight updated:0.5000000000000002\n",
      "Weight updated:0.5000000000000002\n",
      "Total error:1\n"
     ]
    }
   ],
   "source": [
    "train()"
   ]
  },
  {
   "cell_type": "markdown",
   "metadata": {},
   "source": [
    "# Classification"
   ]
  },
  {
   "cell_type": "code",
   "execution_count": 23,
   "metadata": {},
   "outputs": [
    {
     "data": {
      "text/plain": [
       "array([0.5, 0.5])"
      ]
     },
     "execution_count": 23,
     "metadata": {},
     "output_type": "execute_result"
    }
   ],
   "source": [
    "weights"
   ]
  },
  {
   "cell_type": "code",
   "execution_count": 27,
   "metadata": {},
   "outputs": [
    {
     "data": {
      "text/plain": [
       "1"
      ]
     },
     "execution_count": 27,
     "metadata": {},
     "output_type": "execute_result"
    }
   ],
   "source": [
    "(calc(np.array([0,0])))\n",
    "(calc(np.array([0,1])))\n",
    "(calc(np.array([1,0])))\n",
    "(calc(np.array([1,1])))"
   ]
  },
  {
   "cell_type": "markdown",
   "metadata": {},
   "source": [
    "Here is the Practical Activity for this Part 1 of the course:\n",
    "\n",
    "In theoretical classes we worked with the example of salary increase based on age and educational background. The idea of this homework is to use a dataset to train the single layer perceptron to learn this pattern. Instead of using the AND or OR operators, you should use the same code in order to classify whether a person will earn or not a salary increase.\n",
    "\n",
    "Below you can see the input and output variables\n",
    "\n",
    "inputs = np.array([[18,2], [20,3], [21, 4],  \n",
    "                   [35,15], [36,16], [38, 18]])\n",
    "outputs = np.array([0, 0, 0, 1, 1, 1])\n",
    "Class \"0\" (zero) indicates a person won't earn a salary increase, otherwise, class \"1\" (one) indicates a person will earn a salary increase. After training the single layer perceptron, use the new instances below to make predictions. Will the instances below be classified 0 or 1?\n",
    "\n",
    "test_inputs = np.array([[17,5], [25,8],  \n",
    "                        [45,10], [31,20]])\n",
    "Hint: you will need to normalize the inputs in order to train the neural network. You can use the MinMaxScaler from sklearn library\n",
    "\n",
    "Good luck!"
   ]
  },
  {
   "cell_type": "code",
   "execution_count": 35,
   "metadata": {},
   "outputs": [],
   "source": [
    "from sklearn.preprocessing import MinMaxScaler"
   ]
  },
  {
   "cell_type": "code",
   "execution_count": 61,
   "metadata": {},
   "outputs": [],
   "source": [
    "scaler = MinMaxScaler()\n",
    "inputs = np.array([[18,2], [20,4], [21,4], [35,15], [36,16], [38,18]])\n",
    "inputs = scaler.fit_transform(inputs)\n",
    "outputs = np.array([0,0,0,1,1,1])\n",
    "weights = np.array([0.0, 0.0])\n",
    "test_inputs = np.array([[17,5], [25,8]])\n",
    "test_inputs = scaler.fit_transform(test_inputs)\n",
    "lr = 0.01"
   ]
  },
  {
   "cell_type": "code",
   "execution_count": 62,
   "metadata": {},
   "outputs": [],
   "source": [
    "def step_function(values):\n",
    "    if values >= 1:\n",
    "        return 1\n",
    "    return 0\n",
    "\n",
    "def calculation(inputs):\n",
    "    s = inputs.dot(weights)\n",
    "    return step_function(s)\n",
    "\n",
    "\n",
    "\n",
    "    "
   ]
  },
  {
   "cell_type": "code",
   "execution_count": 63,
   "metadata": {},
   "outputs": [],
   "source": [
    "def train():\n",
    "    total_error = 1\n",
    "    while total_error != 0:\n",
    "        total_error = 0\n",
    "        for i in range(len(outputs)):\n",
    "            # is either the 0 or 1\n",
    "            pred = calc(inputs[i])\n",
    "            # actual - pred\n",
    "            error = abs(outputs[i] - pred)\n",
    "            # sum up error\n",
    "            total_error += error\n",
    "        # checks for error rate\n",
    "        if error > 0:\n",
    "            # iterates through weights\n",
    "            for j in range(len(weights)):\n",
    "                # calculates new weight value\n",
    "                weights[j] = weights[j] + (lr * inputs[i][j] * error)\n",
    "                print(f\"Weight updated:{str(weights[j])}\")\n",
    "            print(f\"Total error:{str(total_error)}\")"
   ]
  },
  {
   "cell_type": "code",
   "execution_count": 64,
   "metadata": {},
   "outputs": [
    {
     "name": "stdout",
     "output_type": "stream",
     "text": [
      "Weight updated:0.01\n",
      "Weight updated:0.01\n",
      "Total error:3\n",
      "Weight updated:0.02\n",
      "Weight updated:0.02\n",
      "Total error:3\n",
      "Weight updated:0.03\n",
      "Weight updated:0.03\n",
      "Total error:3\n",
      "Weight updated:0.04\n",
      "Weight updated:0.04\n",
      "Total error:3\n",
      "Weight updated:0.05\n",
      "Weight updated:0.05\n",
      "Total error:3\n",
      "Weight updated:0.060000000000000005\n",
      "Weight updated:0.060000000000000005\n",
      "Total error:3\n",
      "Weight updated:0.07\n",
      "Weight updated:0.07\n",
      "Total error:3\n",
      "Weight updated:0.08\n",
      "Weight updated:0.08\n",
      "Total error:3\n",
      "Weight updated:0.09\n",
      "Weight updated:0.09\n",
      "Total error:3\n",
      "Weight updated:0.09999999999999999\n",
      "Weight updated:0.09999999999999999\n",
      "Total error:3\n",
      "Weight updated:0.10999999999999999\n",
      "Weight updated:0.10999999999999999\n",
      "Total error:3\n",
      "Weight updated:0.11999999999999998\n",
      "Weight updated:0.11999999999999998\n",
      "Total error:3\n",
      "Weight updated:0.12999999999999998\n",
      "Weight updated:0.12999999999999998\n",
      "Total error:3\n",
      "Weight updated:0.13999999999999999\n",
      "Weight updated:0.13999999999999999\n",
      "Total error:3\n",
      "Weight updated:0.15\n",
      "Weight updated:0.15\n",
      "Total error:3\n",
      "Weight updated:0.16\n",
      "Weight updated:0.16\n",
      "Total error:3\n",
      "Weight updated:0.17\n",
      "Weight updated:0.17\n",
      "Total error:3\n",
      "Weight updated:0.18000000000000002\n",
      "Weight updated:0.18000000000000002\n",
      "Total error:3\n",
      "Weight updated:0.19000000000000003\n",
      "Weight updated:0.19000000000000003\n",
      "Total error:3\n",
      "Weight updated:0.20000000000000004\n",
      "Weight updated:0.20000000000000004\n",
      "Total error:3\n",
      "Weight updated:0.21000000000000005\n",
      "Weight updated:0.21000000000000005\n",
      "Total error:3\n",
      "Weight updated:0.22000000000000006\n",
      "Weight updated:0.22000000000000006\n",
      "Total error:3\n",
      "Weight updated:0.23000000000000007\n",
      "Weight updated:0.23000000000000007\n",
      "Total error:3\n",
      "Weight updated:0.24000000000000007\n",
      "Weight updated:0.24000000000000007\n",
      "Total error:3\n",
      "Weight updated:0.25000000000000006\n",
      "Weight updated:0.25000000000000006\n",
      "Total error:3\n",
      "Weight updated:0.26000000000000006\n",
      "Weight updated:0.26000000000000006\n",
      "Total error:3\n",
      "Weight updated:0.2700000000000001\n",
      "Weight updated:0.2700000000000001\n",
      "Total error:3\n",
      "Weight updated:0.2800000000000001\n",
      "Weight updated:0.2800000000000001\n",
      "Total error:3\n",
      "Weight updated:0.2900000000000001\n",
      "Weight updated:0.2900000000000001\n",
      "Total error:3\n",
      "Weight updated:0.3000000000000001\n",
      "Weight updated:0.3000000000000001\n",
      "Total error:3\n",
      "Weight updated:0.3100000000000001\n",
      "Weight updated:0.3100000000000001\n",
      "Total error:3\n",
      "Weight updated:0.3200000000000001\n",
      "Weight updated:0.3200000000000001\n",
      "Total error:3\n",
      "Weight updated:0.3300000000000001\n",
      "Weight updated:0.3300000000000001\n",
      "Total error:3\n",
      "Weight updated:0.34000000000000014\n",
      "Weight updated:0.34000000000000014\n",
      "Total error:3\n",
      "Weight updated:0.35000000000000014\n",
      "Weight updated:0.35000000000000014\n",
      "Total error:3\n",
      "Weight updated:0.36000000000000015\n",
      "Weight updated:0.36000000000000015\n",
      "Total error:3\n",
      "Weight updated:0.37000000000000016\n",
      "Weight updated:0.37000000000000016\n",
      "Total error:3\n",
      "Weight updated:0.38000000000000017\n",
      "Weight updated:0.38000000000000017\n",
      "Total error:3\n",
      "Weight updated:0.3900000000000002\n",
      "Weight updated:0.3900000000000002\n",
      "Total error:3\n",
      "Weight updated:0.4000000000000002\n",
      "Weight updated:0.4000000000000002\n",
      "Total error:3\n",
      "Weight updated:0.4100000000000002\n",
      "Weight updated:0.4100000000000002\n",
      "Total error:3\n",
      "Weight updated:0.4200000000000002\n",
      "Weight updated:0.4200000000000002\n",
      "Total error:3\n",
      "Weight updated:0.4300000000000002\n",
      "Weight updated:0.4300000000000002\n",
      "Total error:3\n",
      "Weight updated:0.4400000000000002\n",
      "Weight updated:0.4400000000000002\n",
      "Total error:3\n",
      "Weight updated:0.45000000000000023\n",
      "Weight updated:0.45000000000000023\n",
      "Total error:3\n",
      "Weight updated:0.46000000000000024\n",
      "Weight updated:0.46000000000000024\n",
      "Total error:3\n",
      "Weight updated:0.47000000000000025\n",
      "Weight updated:0.47000000000000025\n",
      "Total error:3\n",
      "Weight updated:0.48000000000000026\n",
      "Weight updated:0.48000000000000026\n",
      "Total error:3\n",
      "Weight updated:0.49000000000000027\n",
      "Weight updated:0.49000000000000027\n",
      "Total error:3\n",
      "Weight updated:0.5000000000000002\n",
      "Weight updated:0.5000000000000002\n",
      "Total error:3\n"
     ]
    },
    {
     "ename": "KeyboardInterrupt",
     "evalue": "",
     "output_type": "error",
     "traceback": [
      "\u001b[1;31m---------------------------------------------------------------------------\u001b[0m",
      "\u001b[1;31mKeyboardInterrupt\u001b[0m                         Traceback (most recent call last)",
      "Cell \u001b[1;32mIn[64], line 1\u001b[0m\n\u001b[1;32m----> 1\u001b[0m \u001b[43mtrain\u001b[49m\u001b[43m(\u001b[49m\u001b[43m)\u001b[49m\n",
      "Cell \u001b[1;32mIn[63], line 7\u001b[0m, in \u001b[0;36mtrain\u001b[1;34m()\u001b[0m\n\u001b[0;32m      4\u001b[0m total_error \u001b[38;5;241m=\u001b[39m \u001b[38;5;241m0\u001b[39m\n\u001b[0;32m      5\u001b[0m \u001b[38;5;28;01mfor\u001b[39;00m i \u001b[38;5;129;01min\u001b[39;00m \u001b[38;5;28mrange\u001b[39m(\u001b[38;5;28mlen\u001b[39m(outputs)):\n\u001b[0;32m      6\u001b[0m     \u001b[38;5;66;03m# is either the 0 or 1\u001b[39;00m\n\u001b[1;32m----> 7\u001b[0m     pred \u001b[38;5;241m=\u001b[39m \u001b[43mcalc\u001b[49m\u001b[43m(\u001b[49m\u001b[43minputs\u001b[49m\u001b[43m[\u001b[49m\u001b[43mi\u001b[49m\u001b[43m]\u001b[49m\u001b[43m)\u001b[49m\n\u001b[0;32m      8\u001b[0m     \u001b[38;5;66;03m# actual - pred\u001b[39;00m\n\u001b[0;32m      9\u001b[0m     error \u001b[38;5;241m=\u001b[39m \u001b[38;5;28mabs\u001b[39m(outputs[i] \u001b[38;5;241m-\u001b[39m pred)\n",
      "Cell \u001b[1;32mIn[16], line 2\u001b[0m, in \u001b[0;36mcalc\u001b[1;34m(instance)\u001b[0m\n\u001b[0;32m      1\u001b[0m \u001b[38;5;28;01mdef\u001b[39;00m \u001b[38;5;21mcalc\u001b[39m(instance):\n\u001b[1;32m----> 2\u001b[0m     s \u001b[38;5;241m=\u001b[39m \u001b[43minstance\u001b[49m\u001b[38;5;241;43m.\u001b[39;49m\u001b[43mdot\u001b[49m\u001b[43m(\u001b[49m\u001b[43mweights\u001b[49m\u001b[43m)\u001b[49m\n\u001b[0;32m      3\u001b[0m     \u001b[38;5;28;01mreturn\u001b[39;00m step_(s)\n",
      "\u001b[1;31mKeyboardInterrupt\u001b[0m: "
     ]
    }
   ],
   "source": [
    "train()\n"
   ]
  },
  {
   "cell_type": "code",
   "execution_count": null,
   "metadata": {},
   "outputs": [],
   "source": []
  }
 ],
 "metadata": {
  "kernelspec": {
   "display_name": "tf2",
   "language": "python",
   "name": "python3"
  },
  "language_info": {
   "codemirror_mode": {
    "name": "ipython",
    "version": 3
   },
   "file_extension": ".py",
   "mimetype": "text/x-python",
   "name": "python",
   "nbconvert_exporter": "python",
   "pygments_lexer": "ipython3",
   "version": "3.10.9"
  }
 },
 "nbformat": 4,
 "nbformat_minor": 2
}
