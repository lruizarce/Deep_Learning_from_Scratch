{
 "cells": [
  {
   "cell_type": "code",
   "execution_count": 1,
   "metadata": {},
   "outputs": [],
   "source": [
    "import numpy as np\n",
    "from numpy import ndarray\n"
   ]
  },
  {
   "cell_type": "code",
   "execution_count": null,
   "metadata": {},
   "outputs": [],
   "source": [
    "\n",
    "def square(x: ndarray)->ndarray:\n",
    "    \"\"\" \n",
    "    Square each element in the input ndarray\n",
    "    \"\"\"   \n",
    "    return np.power(x,2) \n",
    "def leaky_relu(x: ndarray)-> ndarray:\n",
    "    \"\"\"_summary_\n",
    "    Apply \"Leaky ReLU\" function to each element in ndarray\n",
    "\n",
    "    Args:\n",
    "        x (ndarray): _description_\n",
    "\n",
    "    Returns:\n",
    "        ndarray: _description_\n",
    "    \"\"\"\n",
    "    return np.maximum(0.2 * x, x)"
   ]
  }
 ],
 "metadata": {
  "kernelspec": {
   "display_name": "base",
   "language": "python",
   "name": "python3"
  },
  "language_info": {
   "codemirror_mode": {
    "name": "ipython",
    "version": 3
   },
   "file_extension": ".py",
   "mimetype": "text/x-python",
   "name": "python",
   "nbconvert_exporter": "python",
   "pygments_lexer": "ipython3",
   "version": "3.9.13"
  },
  "orig_nbformat": 4
 },
 "nbformat": 4,
 "nbformat_minor": 2
}
